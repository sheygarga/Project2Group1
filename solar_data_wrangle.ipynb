{
 "cells": [
  {
   "cell_type": "code",
   "execution_count": 1,
   "metadata": {
    "collapsed": true
   },
   "outputs": [],
   "source": [
    "# dependencies\n",
    "import pandas as pd\n",
    "import numpy as np\n",
    "\n",
    "from sqlalchemy import create_engine"
   ]
  },
  {
   "cell_type": "code",
   "execution_count": 2,
   "metadata": {},
   "outputs": [
    {
     "data": {
      "text/html": [
       "<div>\n",
       "<style>\n",
       "    .dataframe thead tr:only-child th {\n",
       "        text-align: right;\n",
       "    }\n",
       "\n",
       "    .dataframe thead th {\n",
       "        text-align: left;\n",
       "    }\n",
       "\n",
       "    .dataframe tbody tr th {\n",
       "        vertical-align: top;\n",
       "    }\n",
       "</style>\n",
       "<table border=\"1\" class=\"dataframe\">\n",
       "  <thead>\n",
       "    <tr style=\"text-align: right;\">\n",
       "      <th></th>\n",
       "      <th>State</th>\n",
       "      <th>Range</th>\n",
       "      <th>Rate</th>\n",
       "    </tr>\n",
       "  </thead>\n",
       "  <tbody>\n",
       "    <tr>\n",
       "      <th>0</th>\n",
       "      <td>AK</td>\n",
       "      <td>9.5 to 19.0</td>\n",
       "      <td>14.9</td>\n",
       "    </tr>\n",
       "    <tr>\n",
       "      <th>1</th>\n",
       "      <td>AL</td>\n",
       "      <td>9.5 to 19.0</td>\n",
       "      <td>19.0</td>\n",
       "    </tr>\n",
       "    <tr>\n",
       "      <th>2</th>\n",
       "      <td>AR</td>\n",
       "      <td>19.1 to 21.9</td>\n",
       "      <td>20.0</td>\n",
       "    </tr>\n",
       "    <tr>\n",
       "      <th>3</th>\n",
       "      <td>AZ</td>\n",
       "      <td>19.1 to 21.9</td>\n",
       "      <td>20.6</td>\n",
       "    </tr>\n",
       "    <tr>\n",
       "      <th>4</th>\n",
       "      <td>CA</td>\n",
       "      <td>23.0 to 25.8</td>\n",
       "      <td>23.0</td>\n",
       "    </tr>\n",
       "  </tbody>\n",
       "</table>\n",
       "</div>"
      ],
      "text/plain": [
       "  State         Range  Rate\n",
       "0    AK   9.5 to 19.0  14.9\n",
       "1    AL   9.5 to 19.0  19.0\n",
       "2    AR  19.1 to 21.9  20.0\n",
       "3    AZ  19.1 to 21.9  20.6\n",
       "4    CA  23.0 to 25.8  23.0"
      ]
     },
     "execution_count": 2,
     "metadata": {},
     "output_type": "execute_result"
    }
   ],
   "source": [
    "# read cancercsv into dataframe\n",
    "cancer_df = pd.read_csv(\"static/csv/skin_map_incidence.csv\")\n",
    "cancer_df.head()"
   ]
  },
  {
   "cell_type": "code",
   "execution_count": 3,
   "metadata": {},
   "outputs": [
    {
     "data": {
      "text/html": [
       "<div>\n",
       "<style>\n",
       "    .dataframe thead tr:only-child th {\n",
       "        text-align: right;\n",
       "    }\n",
       "\n",
       "    .dataframe thead th {\n",
       "        text-align: left;\n",
       "    }\n",
       "\n",
       "    .dataframe tbody tr th {\n",
       "        vertical-align: top;\n",
       "    }\n",
       "</style>\n",
       "<table border=\"1\" class=\"dataframe\">\n",
       "  <thead>\n",
       "    <tr style=\"text-align: right;\">\n",
       "      <th></th>\n",
       "      <th>state</th>\n",
       "      <th>date_installed</th>\n",
       "      <th>incentive_prog_names</th>\n",
       "      <th>type</th>\n",
       "      <th>size_kw</th>\n",
       "      <th>appraised</th>\n",
       "      <th>zipcode</th>\n",
       "      <th>install_type</th>\n",
       "      <th>installer</th>\n",
       "      <th>cost_per_watt</th>\n",
       "      <th>...</th>\n",
       "      <th>effic_1</th>\n",
       "      <th>cust_county</th>\n",
       "      <th>tracking</th>\n",
       "      <th>inv_model_clean</th>\n",
       "      <th>mod_cost_real</th>\n",
       "      <th>inv_cost_real</th>\n",
       "      <th>bos_powerclerk_real</th>\n",
       "      <th>permitting_real</th>\n",
       "      <th>3rdparty</th>\n",
       "      <th>Filters=maxdate=1420045199&amp;mindate=1388552400</th>\n",
       "    </tr>\n",
       "  </thead>\n",
       "  <tbody>\n",
       "    <tr>\n",
       "      <th>0</th>\n",
       "      <td>CO</td>\n",
       "      <td>01/01/2014</td>\n",
       "      <td>NaN</td>\n",
       "      <td>uir</td>\n",
       "      <td>13.58</td>\n",
       "      <td>NaN</td>\n",
       "      <td>80401</td>\n",
       "      <td>Government</td>\n",
       "      <td>NaN</td>\n",
       "      <td>1.62</td>\n",
       "      <td>...</td>\n",
       "      <td>NaN</td>\n",
       "      <td>NaN</td>\n",
       "      <td>NaN</td>\n",
       "      <td>NaN</td>\n",
       "      <td>NaN</td>\n",
       "      <td>NaN</td>\n",
       "      <td>NaN</td>\n",
       "      <td>NaN</td>\n",
       "      <td>NaN</td>\n",
       "      <td>NaN</td>\n",
       "    </tr>\n",
       "    <tr>\n",
       "      <th>1</th>\n",
       "      <td>NY</td>\n",
       "      <td>01/01/2014</td>\n",
       "      <td>NaN</td>\n",
       "      <td>uir</td>\n",
       "      <td>306.60</td>\n",
       "      <td>NaN</td>\n",
       "      <td>11215</td>\n",
       "      <td>commercial</td>\n",
       "      <td>NaN</td>\n",
       "      <td>NaN</td>\n",
       "      <td>...</td>\n",
       "      <td>NaN</td>\n",
       "      <td>NaN</td>\n",
       "      <td>NaN</td>\n",
       "      <td>NaN</td>\n",
       "      <td>NaN</td>\n",
       "      <td>NaN</td>\n",
       "      <td>NaN</td>\n",
       "      <td>NaN</td>\n",
       "      <td>NaN</td>\n",
       "      <td>NaN</td>\n",
       "    </tr>\n",
       "  </tbody>\n",
       "</table>\n",
       "<p>2 rows × 82 columns</p>\n",
       "</div>"
      ],
      "text/plain": [
       "  state date_installed incentive_prog_names type  size_kw appraised  zipcode  \\\n",
       "0    CO     01/01/2014                  NaN  uir    13.58       NaN    80401   \n",
       "1    NY     01/01/2014                  NaN  uir   306.60       NaN    11215   \n",
       "\n",
       "  install_type installer  cost_per_watt  \\\n",
       "0   Government       NaN           1.62   \n",
       "1   commercial       NaN            NaN   \n",
       "\n",
       "                       ...                       effic_1  cust_county  \\\n",
       "0                      ...                           NaN          NaN   \n",
       "1                      ...                           NaN          NaN   \n",
       "\n",
       "  tracking inv_model_clean mod_cost_real inv_cost_real bos_powerclerk_real  \\\n",
       "0      NaN             NaN           NaN           NaN                 NaN   \n",
       "1      NaN             NaN           NaN           NaN                 NaN   \n",
       "\n",
       "  permitting_real  3rdparty  Filters=maxdate=1420045199&mindate=1388552400  \n",
       "0             NaN       NaN                                            NaN  \n",
       "1             NaN       NaN                                            NaN  \n",
       "\n",
       "[2 rows x 82 columns]"
      ]
     },
     "execution_count": 3,
     "metadata": {},
     "output_type": "execute_result"
    }
   ],
   "source": [
    "# read solar install csv into dataframe\n",
    "solar_df = pd.read_csv(\"static/csv/openpv-export-201803141836.csv\")\n",
    "solar_df.head(2)"
   ]
  },
  {
   "cell_type": "code",
   "execution_count": 4,
   "metadata": {},
   "outputs": [
    {
     "data": {
      "text/html": [
       "<div>\n",
       "<style>\n",
       "    .dataframe thead tr:only-child th {\n",
       "        text-align: right;\n",
       "    }\n",
       "\n",
       "    .dataframe thead th {\n",
       "        text-align: left;\n",
       "    }\n",
       "\n",
       "    .dataframe tbody tr th {\n",
       "        vertical-align: top;\n",
       "    }\n",
       "</style>\n",
       "<table border=\"1\" class=\"dataframe\">\n",
       "  <thead>\n",
       "    <tr style=\"text-align: right;\">\n",
       "      <th></th>\n",
       "      <th>state</th>\n",
       "      <th>install_Data</th>\n",
       "      <th>size_kw</th>\n",
       "      <th>zip</th>\n",
       "      <th>cost_per_Watt</th>\n",
       "    </tr>\n",
       "  </thead>\n",
       "  <tbody>\n",
       "    <tr>\n",
       "      <th>0</th>\n",
       "      <td>CO</td>\n",
       "      <td>01/01/2014</td>\n",
       "      <td>13.58</td>\n",
       "      <td>80401</td>\n",
       "      <td>1.62</td>\n",
       "    </tr>\n",
       "    <tr>\n",
       "      <th>1</th>\n",
       "      <td>NY</td>\n",
       "      <td>01/01/2014</td>\n",
       "      <td>306.60</td>\n",
       "      <td>11215</td>\n",
       "      <td>NaN</td>\n",
       "    </tr>\n",
       "  </tbody>\n",
       "</table>\n",
       "</div>"
      ],
      "text/plain": [
       "  state install_Data  size_kw    zip  cost_per_Watt\n",
       "0    CO   01/01/2014    13.58  80401           1.62\n",
       "1    NY   01/01/2014   306.60  11215            NaN"
      ]
     },
     "execution_count": 4,
     "metadata": {},
     "output_type": "execute_result"
    }
   ],
   "source": [
    "solar_targs_df = solar_df.iloc[:,[0, 1, 4, 6, 9]]\n",
    "solar_targs_df.columns = [\"state\", \"install_Data\", \"size_kw\", \"zip\", \"cost_per_Watt\"]\n",
    "solar_targs_df.head(2)"
   ]
  },
  {
   "cell_type": "code",
   "execution_count": 5,
   "metadata": {},
   "outputs": [
    {
     "data": {
      "text/plain": [
       "state            170862\n",
       "install_Data     170862\n",
       "size_kw          170862\n",
       "zip              170862\n",
       "cost_per_Watt     73212\n",
       "dtype: int64"
      ]
     },
     "execution_count": 5,
     "metadata": {},
     "output_type": "execute_result"
    }
   ],
   "source": [
    "# check to see how deeply the nans permiate our data\n",
    "solar_targs_df.count()\n"
   ]
  },
  {
   "cell_type": "code",
   "execution_count": 6,
   "metadata": {
    "collapsed": true
   },
   "outputs": [],
   "source": [
    "# read eia cost data into dataframe\n",
    "eia_df = pd.read_csv(\"static/csv/eia_2014_scrape.csv\")\n",
    "eia_df = eia_df.iloc[:,[1,2]]\n",
    "eia_df[\"State\"] = [\"AL\",\"AK\",\"AZ\",\"AR\",\"CA\",\"CO\",\"CT\",\"DE\",\"DC\",\"FL\",\"GA\",\"HI\",\"ID\",\"IL\",\"IN\",\"IA\",\"KS\",\n",
    "                   \"KY\",\"LA\",\"ME\",\"MD\",\"MA\",\"MI\",\"MN\",\"MS\",\"MO\",\"MT\",\"NE\",\"NV\",\"NH\",\"NJ\",\"NM\",\"NY\",\"NC\",\n",
    "                   \"ND\",\"OH\",\"OK\",\"OR\",\"PA\",\"RI\",\"SC\",\"SD\",\"TN\",\"TX\",\"UT\",\"VT\",\"VA\",\"WA\",\"WV\",\"WI\",\"WY\"]\n",
    "# eia_df"
   ]
  },
  {
   "cell_type": "code",
   "execution_count": 7,
   "metadata": {
    "collapsed": true
   },
   "outputs": [],
   "source": [
    "# merge cancer and electric cost dfs\n",
    "cande_df = pd.merge(cancer_df, eia_df, on=\"State\", how=\"outer\")\n",
    "cande_df.columns = [\"state\", \"range\", \"rate\", \"name\", \"average retail price (cents/kWh)\"]\n",
    "electric_cancer = cande_df[[\"name\",\"state\",\"rate\",\"average retail price (cents/kWh)\"]]\n",
    "electric_cancer.columns = [\"state\",\"sbbr\",\"cancer_Rate\",\"electric_Cost\"]\n",
    "#electric_cancer.head()\n",
    "electric_cancer.to_csv(\"static/csv/electric_cost_cancer_rate.csv\")"
   ]
  },
  {
   "cell_type": "code",
   "execution_count": 8,
   "metadata": {
    "collapsed": true
   },
   "outputs": [],
   "source": [
    "# merge solar and cande dfs\n",
    "data_df = pd.merge(cande_df, solar_targs_df, on=\"state\", how=\"outer\")\n",
    "\n",
    "# reset index to serve as id column\n",
    "data_df = data_df.reset_index()\n",
    "#data_df.head()\n",
    "\n",
    "# rename columns and reorder columns\n",
    "data_df.columns = [\"id\", \"abbr\", \"c_range\", \"cancer_Rate\", \"state\", \"electric_Cost_cents_kWh)\", \"install_Date\",\n",
    "                  \"size_kW\", \"zipcode\", \"cost_per_Watt\"]\n",
    "data_df = data_df[[\"id\", \"state\", \"abbr\", \"electric_Cost_cents_kWh)\", \"install_Date\", \"zipcode\", \"size_kW\",\n",
    "                 \"cost_per_Watt\", \"c_range\", \"cancer_Rate\"]]\n",
    "data_df[\"size_kW\"].fillna(0, inplace=True)\n",
    "#data_df.head(10)\n",
    "\n",
    "# push clean df to csv\n",
    "data_df.to_csv(\"static/csv/clean_data.csv\")"
   ]
  },
  {
   "cell_type": "code",
   "execution_count": 9,
   "metadata": {
    "collapsed": true
   },
   "outputs": [],
   "source": [
    "one = []\n",
    "\n",
    "for i in data_df[\"size_kW\"]:\n",
    "    i == data_df[\"size_kW\"]\n",
    "    if 0 < i < 10:\n",
    "        one.append(i)\n",
    "    else :\n",
    "        one.append(0)\n",
    "\n",
    "two = []\n",
    "for i in data_df[\"size_kW\"]:\n",
    "    i == data_df[\"size_kW\"]\n",
    "    if 10 <= i < 100:\n",
    "        two.append(i)\n",
    "    else :\n",
    "        two.append(0)\n",
    "\n",
    "three = []\n",
    "for i in data_df[\"size_kW\"]:\n",
    "    i == data_df[\"size_kW\"]\n",
    "    if i >= 100:\n",
    "        three.append(i)\n",
    "    else :\n",
    "        three.append(0)\n",
    "\n",
    "data_df[\"size_one\"] = one\n",
    "data_df[\"size_two\"] = two\n",
    "data_df[\"size_three\"] = three\n",
    "\n",
    "#data_df.head(50)"
   ]
  },
  {
   "cell_type": "code",
   "execution_count": 10,
   "metadata": {
    "collapsed": true
   },
   "outputs": [],
   "source": [
    "# create df with total installed kW by state\n",
    "installed = data_df.groupby([\"state\", \"abbr\"])[\"size_kW\", \"size_one\", \"size_two\", \"size_three\"].sum()\n",
    "installed_df = pd.DataFrame(installed)\n",
    "installs_df = installed_df.reset_index()\n",
    "# installs_df\n",
    "installs_df.to_csv(\"static/csv/install_totals_state.csv\")"
   ]
  },
  {
   "cell_type": "code",
   "execution_count": 11,
   "metadata": {
    "collapsed": true
   },
   "outputs": [],
   "source": [
    "install_groups = installs_df.drop(\"size_kW\", axis=1)\n",
    "install_groups.head()\n",
    "install_groups.to_csv(\"static/csv/install_groups_state.csv\")"
   ]
  },
  {
   "cell_type": "code",
   "execution_count": 12,
   "metadata": {
    "collapsed": true
   },
   "outputs": [],
   "source": [
    "installs_ecost = installs_df\n",
    "installs_ecost[\"electric_cost\"] = electric_cancer[\"electric_Cost\"]\n",
    "# installs_ecost\n",
    "installs_ecost.to_csv(\"static/csv/installs_ecost.csv\")"
   ]
  },
  {
   "cell_type": "code",
   "execution_count": 13,
   "metadata": {
    "collapsed": true
   },
   "outputs": [],
   "source": [
    "data_df.drop(\"size_one\", axis=1, inplace=True)\n",
    "data_df.drop(\"size_two\", axis=1, inplace=True)\n",
    "data_df.drop(\"size_three\", axis=1, inplace=True)\n",
    "#data_df.head()"
   ]
  },
  {
   "cell_type": "code",
   "execution_count": 14,
   "metadata": {},
   "outputs": [
    {
     "name": "stderr",
     "output_type": "stream",
     "text": [
      "C:\\Users\\ArneNewman\\Anaconda3\\lib\\site-packages\\pandas\\io\\sql.py:527: FutureWarning: the 'flavor' parameter is deprecated and will be removed in a future version, as 'sqlite' is the only supported option when SQLAlchemy is not installed.\n",
      "  _validate_flavor_parameter(flavor)\n"
     ]
    }
   ],
   "source": [
    "# push data to sqlite db\n",
    "engine = create_engine('sqlite:///clean_solar_data.db')\n",
    "data_df.to_sql(\"data\", con=engine, flavor=\"sqlite\", if_exists=\"replace\", index=False)\n",
    "installs_df.to_sql(\"install_total\", con=engine, flavor=\"sqlite\", if_exists=\"replace\", index=False)\n",
    "electric_cancer.to_sql(\"electric_cancer\", con=engine, flavor=\"sqlite\", if_exists=\"replace\", index=False)\n",
    "installs_ecost.to_sql(\"installs_ecost\", con=engine, flavor=\"sqlite\", if_exists=\"replace\", index=False)"
   ]
  },
  {
   "cell_type": "code",
   "execution_count": 15,
   "metadata": {},
   "outputs": [
    {
     "data": {
      "text/html": [
       "<div>\n",
       "<style>\n",
       "    .dataframe thead tr:only-child th {\n",
       "        text-align: right;\n",
       "    }\n",
       "\n",
       "    .dataframe thead th {\n",
       "        text-align: left;\n",
       "    }\n",
       "\n",
       "    .dataframe tbody tr th {\n",
       "        vertical-align: top;\n",
       "    }\n",
       "</style>\n",
       "<table border=\"1\" class=\"dataframe\">\n",
       "  <thead>\n",
       "    <tr style=\"text-align: right;\">\n",
       "      <th></th>\n",
       "      <th>state</th>\n",
       "      <th>abbr</th>\n",
       "      <th>size_kW</th>\n",
       "      <th>size_one</th>\n",
       "      <th>size_two</th>\n",
       "      <th>size_three</th>\n",
       "      <th>electric_cost</th>\n",
       "    </tr>\n",
       "  </thead>\n",
       "  <tbody>\n",
       "    <tr>\n",
       "      <th>0</th>\n",
       "      <td>Alabama</td>\n",
       "      <td>AL</td>\n",
       "      <td>0.000000e+00</td>\n",
       "      <td>0.000000</td>\n",
       "      <td>0.000000</td>\n",
       "      <td>0.000000</td>\n",
       "      <td>17.46</td>\n",
       "    </tr>\n",
       "    <tr>\n",
       "      <th>1</th>\n",
       "      <td>Alaska</td>\n",
       "      <td>AK</td>\n",
       "      <td>1.450000e+01</td>\n",
       "      <td>2.500000</td>\n",
       "      <td>12.000000</td>\n",
       "      <td>0.000000</td>\n",
       "      <td>9.27</td>\n",
       "    </tr>\n",
       "    <tr>\n",
       "      <th>2</th>\n",
       "      <td>Arizona</td>\n",
       "      <td>AZ</td>\n",
       "      <td>1.551172e+05</td>\n",
       "      <td>73347.394333</td>\n",
       "      <td>43593.181000</td>\n",
       "      <td>38176.638000</td>\n",
       "      <td>7.90</td>\n",
       "    </tr>\n",
       "    <tr>\n",
       "      <th>3</th>\n",
       "      <td>Arkansas</td>\n",
       "      <td>AR</td>\n",
       "      <td>0.000000e+00</td>\n",
       "      <td>0.000000</td>\n",
       "      <td>0.000000</td>\n",
       "      <td>0.000000</td>\n",
       "      <td>10.18</td>\n",
       "    </tr>\n",
       "    <tr>\n",
       "      <th>4</th>\n",
       "      <td>California</td>\n",
       "      <td>CA</td>\n",
       "      <td>1.173274e+06</td>\n",
       "      <td>510726.487028</td>\n",
       "      <td>124146.322401</td>\n",
       "      <td>538401.221577</td>\n",
       "      <td>15.15</td>\n",
       "    </tr>\n",
       "  </tbody>\n",
       "</table>\n",
       "</div>"
      ],
      "text/plain": [
       "        state abbr       size_kW       size_one       size_two     size_three  \\\n",
       "0     Alabama   AL  0.000000e+00       0.000000       0.000000       0.000000   \n",
       "1      Alaska   AK  1.450000e+01       2.500000      12.000000       0.000000   \n",
       "2     Arizona   AZ  1.551172e+05   73347.394333   43593.181000   38176.638000   \n",
       "3    Arkansas   AR  0.000000e+00       0.000000       0.000000       0.000000   \n",
       "4  California   CA  1.173274e+06  510726.487028  124146.322401  538401.221577   \n",
       "\n",
       "   electric_cost  \n",
       "0          17.46  \n",
       "1           9.27  \n",
       "2           7.90  \n",
       "3          10.18  \n",
       "4          15.15  "
      ]
     },
     "execution_count": 15,
     "metadata": {},
     "output_type": "execute_result"
    }
   ],
   "source": [
    "# test db completion\n",
    "df = pd.read_sql_query(\"SELECT * FROM 'installs_ecost'\", engine)\n",
    "df.head()"
   ]
  },
  {
   "cell_type": "code",
   "execution_count": 16,
   "metadata": {
    "collapsed": true
   },
   "outputs": [],
   "source": [
    "#Setup datframes of top 10 sorted lists to include the state name, abbreviation, and metric; reset index\n",
    "\n",
    "df_totalkw = df.sort_values(by=['size_kW'], ascending = False).head(n=10).iloc[:,0:2].reset_index(drop = True)\n",
    "df_small= df.sort_values(by=['size_one'], ascending = False).head(n=10).loc[:,[\"state\",\"abbr\"]].reset_index(drop = True)\n",
    "df_medium = df.sort_values(by=['size_two'], ascending = False).head(n=10).loc[:,[\"state\",\"abbr\"]].reset_index(drop = True)\n",
    "df_large = df.sort_values(by=['size_three'], ascending = False).head(n=10).loc[:,[\"state\",\"abbr\"]].reset_index(drop = True)\n",
    "df_cost = df.sort_values(by=['electric_cost'], ascending = False).head(n=10).loc[:,[\"state\",\"abbr\"]].reset_index(drop = True)\n",
    "df_cancer = cancer_df.sort_values(by=['Rate'], ascending = False).head(n=10).reset_index(drop = True)"
   ]
  },
  {
   "cell_type": "code",
   "execution_count": 32,
   "metadata": {},
   "outputs": [
    {
     "data": {
      "text/html": [
       "<div>\n",
       "<style>\n",
       "    .dataframe thead tr:only-child th {\n",
       "        text-align: right;\n",
       "    }\n",
       "\n",
       "    .dataframe thead th {\n",
       "        text-align: left;\n",
       "    }\n",
       "\n",
       "    .dataframe tbody tr th {\n",
       "        vertical-align: top;\n",
       "    }\n",
       "</style>\n",
       "<table border=\"1\" class=\"dataframe\">\n",
       "  <thead>\n",
       "    <tr style=\"text-align: right;\">\n",
       "      <th></th>\n",
       "      <th>State</th>\n",
       "      <th>Abbr</th>\n",
       "      <th>Rank</th>\n",
       "    </tr>\n",
       "  </thead>\n",
       "  <tbody>\n",
       "    <tr>\n",
       "      <th>0</th>\n",
       "      <td>California</td>\n",
       "      <td>CA</td>\n",
       "      <td>1</td>\n",
       "    </tr>\n",
       "    <tr>\n",
       "      <th>1</th>\n",
       "      <td>Massachusetts</td>\n",
       "      <td>MA</td>\n",
       "      <td>2</td>\n",
       "    </tr>\n",
       "    <tr>\n",
       "      <th>2</th>\n",
       "      <td>New Jersey</td>\n",
       "      <td>NJ</td>\n",
       "      <td>3</td>\n",
       "    </tr>\n",
       "    <tr>\n",
       "      <th>3</th>\n",
       "      <td>Arizona</td>\n",
       "      <td>AZ</td>\n",
       "      <td>4</td>\n",
       "    </tr>\n",
       "    <tr>\n",
       "      <th>4</th>\n",
       "      <td>New York</td>\n",
       "      <td>NY</td>\n",
       "      <td>5</td>\n",
       "    </tr>\n",
       "    <tr>\n",
       "      <th>5</th>\n",
       "      <td>Missouri</td>\n",
       "      <td>MO</td>\n",
       "      <td>6</td>\n",
       "    </tr>\n",
       "    <tr>\n",
       "      <th>6</th>\n",
       "      <td>Texas</td>\n",
       "      <td>TX</td>\n",
       "      <td>7</td>\n",
       "    </tr>\n",
       "    <tr>\n",
       "      <th>7</th>\n",
       "      <td>Indiana</td>\n",
       "      <td>IN</td>\n",
       "      <td>8</td>\n",
       "    </tr>\n",
       "    <tr>\n",
       "      <th>8</th>\n",
       "      <td>Connecticut</td>\n",
       "      <td>CT</td>\n",
       "      <td>9</td>\n",
       "    </tr>\n",
       "    <tr>\n",
       "      <th>9</th>\n",
       "      <td>Nevada</td>\n",
       "      <td>NV</td>\n",
       "      <td>10</td>\n",
       "    </tr>\n",
       "  </tbody>\n",
       "</table>\n",
       "</div>"
      ],
      "text/plain": [
       "           State Abbr  Rank\n",
       "0     California   CA     1\n",
       "1  Massachusetts   MA     2\n",
       "2     New Jersey   NJ     3\n",
       "3        Arizona   AZ     4\n",
       "4       New York   NY     5\n",
       "5       Missouri   MO     6\n",
       "6          Texas   TX     7\n",
       "7        Indiana   IN     8\n",
       "8    Connecticut   CT     9\n",
       "9         Nevada   NV    10"
      ]
     },
     "execution_count": 32,
     "metadata": {},
     "output_type": "execute_result"
    }
   ],
   "source": [
    "df_totalkw.rename(columns = {\"state\":\"State\", \"abbr\":\"Abbr\"}, inplace = True)\n",
    "df_small.rename(columns = {\"state\":\"State\", \"abbr\":\"Abbr\"}, inplace = True)\n",
    "df_medium.rename(columns = {\"state\":\"State\", \"abbr\":\"Abbr\"}, inplace = True)\n",
    "df_large.rename(columns = {\"state\":\"State\", \"abbr\":\"Abbr\"}, inplace = True)\n",
    "df_cost.rename(columns = {\"state\":\"State\", \"abbr\":\"Abbr\"}, inplace = True)\n",
    "\n",
    "df_totalkw[\"Rank\"] = [1,2,3,4,5,6,7,8,9,10]\n",
    "df_small[\"Rank\"] = [1,2,3,4,5,6,7,8,9,10]\n",
    "df_medium[\"Rank\"] = [1,2,3,4,5,6,7,8,9,10]\n",
    "df_large[\"Rank\"] = [1,2,3,4,5,6,7,8,9,10]\n",
    "df_cost[\"Rank\"] = [1,2,3,4,5,6,7,8,9,10]\n",
    "\n",
    "\n",
    "df_totalkw"
   ]
  },
  {
   "cell_type": "code",
   "execution_count": 33,
   "metadata": {},
   "outputs": [],
   "source": [
    "#push files to csv\n",
    "\n",
    "df_totalkw.to_csv('static/csv/total_kw_table.csv',index = False)\n",
    "df_small.to_csv('static/csv/small_kw_table.csv',index = False)\n",
    "df_medium.to_csv('static/csv/medium_kw_table.csv',index = False)\n",
    "df_large.to_csv('static/csv/large_kw_table.csv',index = False)\n",
    "df_cost.to_csv('static/csv/elec_cost_table.csv',index = False)\n",
    "df_cancer.to_csv('static/csv/cancer_rates.csv',index = False)"
   ]
  },
  {
   "cell_type": "code",
   "execution_count": null,
   "metadata": {
    "collapsed": true
   },
   "outputs": [],
   "source": []
  },
  {
   "cell_type": "code",
   "execution_count": null,
   "metadata": {
    "collapsed": true
   },
   "outputs": [],
   "source": []
  }
 ],
 "metadata": {
  "kernelspec": {
   "display_name": "Python 3",
   "language": "python",
   "name": "python3"
  },
  "language_info": {
   "codemirror_mode": {
    "name": "ipython",
    "version": 3
   },
   "file_extension": ".py",
   "mimetype": "text/x-python",
   "name": "python",
   "nbconvert_exporter": "python",
   "pygments_lexer": "ipython3",
   "version": "3.6.3"
  }
 },
 "nbformat": 4,
 "nbformat_minor": 2
}
